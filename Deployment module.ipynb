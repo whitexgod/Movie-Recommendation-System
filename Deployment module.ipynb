{
 "cells": [
  {
   "cell_type": "code",
   "execution_count": 92,
   "metadata": {},
   "outputs": [],
   "source": [
    "import pickle\n",
    "import pandas as pd\n",
    "import numpy as np\n",
    "from sklearn.neighbors import NearestNeighbors\n",
    "from fuzzywuzzy import process"
   ]
  },
  {
   "cell_type": "code",
   "execution_count": 93,
   "metadata": {},
   "outputs": [],
   "source": [
    "clf = pickle.load(open('model.pkl','rb'))"
   ]
  },
  {
   "cell_type": "code",
   "execution_count": 94,
   "metadata": {},
   "outputs": [],
   "source": [
    "movie_features_df=pickle.load(open('movie_features_df.pkl','rb'))"
   ]
  },
  {
   "cell_type": "code",
   "execution_count": 95,
   "metadata": {},
   "outputs": [],
   "source": [
    "movie_names=pickle.load(open('movie_names.pkl','rb'))"
   ]
  },
  {
   "cell_type": "code",
   "execution_count": null,
   "metadata": {},
   "outputs": [],
   "source": []
  },
  {
   "cell_type": "code",
   "execution_count": 96,
   "metadata": {},
   "outputs": [],
   "source": [
    "def get_matches(query, choices, limit=5):\n",
    "    results = process.extract(query, choices, limit=limit)\n",
    "    return results"
   ]
  },
  {
   "cell_type": "code",
   "execution_count": 102,
   "metadata": {},
   "outputs": [
    {
     "name": "stdout",
     "output_type": "stream",
     "text": [
      "Enter the name of the movie:3 idiots\n"
     ]
    }
   ],
   "source": [
    "text=input(\"Enter the name of the movie:\")\n",
    "movie_list=get_matches(text, movie_names)\n",
    "new_list=[]\n",
    "for i in range (5):\n",
    "    if movie_list[i][1]>70:\n",
    "        new_list.append(movie_list[i])\n",
    "movie_nam=[]\n",
    "for i in range (len(new_list)):\n",
    "    movie_nam.append(str(new_list[i][0]))\n",
    "d={'movie':movie_nam} \n",
    "data=pd.DataFrame(d)\n",
    "data.drop_duplicates(inplace=True)"
   ]
  },
  {
   "cell_type": "code",
   "execution_count": 103,
   "metadata": {},
   "outputs": [
    {
     "data": {
      "text/html": [
       "<div>\n",
       "<style scoped>\n",
       "    .dataframe tbody tr th:only-of-type {\n",
       "        vertical-align: middle;\n",
       "    }\n",
       "\n",
       "    .dataframe tbody tr th {\n",
       "        vertical-align: top;\n",
       "    }\n",
       "\n",
       "    .dataframe thead th {\n",
       "        text-align: right;\n",
       "    }\n",
       "</style>\n",
       "<table border=\"1\" class=\"dataframe\">\n",
       "  <thead>\n",
       "    <tr style=\"text-align: right;\">\n",
       "      <th></th>\n",
       "      <th>movie</th>\n",
       "    </tr>\n",
       "  </thead>\n",
       "  <tbody>\n",
       "    <tr>\n",
       "      <td>0</td>\n",
       "      <td>3 EXTREMES (THREE... EXTREMES) (SAAM GAANG YI)...</td>\n",
       "    </tr>\n",
       "    <tr>\n",
       "      <td>1</td>\n",
       "      <td>3 NINJAS (1992)</td>\n",
       "    </tr>\n",
       "    <tr>\n",
       "      <td>2</td>\n",
       "      <td>3 NINJAS KICK BACK (1994)</td>\n",
       "    </tr>\n",
       "    <tr>\n",
       "      <td>3</td>\n",
       "      <td>3 NINJAS KNUCKLE UP (1995)</td>\n",
       "    </tr>\n",
       "    <tr>\n",
       "      <td>4</td>\n",
       "      <td>3 NINJAS: HIGH NOON ON MEGA MOUNTAIN (1998)</td>\n",
       "    </tr>\n",
       "  </tbody>\n",
       "</table>\n",
       "</div>"
      ],
      "text/plain": [
       "                                               movie\n",
       "0  3 EXTREMES (THREE... EXTREMES) (SAAM GAANG YI)...\n",
       "1                                    3 NINJAS (1992)\n",
       "2                          3 NINJAS KICK BACK (1994)\n",
       "3                         3 NINJAS KNUCKLE UP (1995)\n",
       "4        3 NINJAS: HIGH NOON ON MEGA MOUNTAIN (1998)"
      ]
     },
     "execution_count": 103,
     "metadata": {},
     "output_type": "execute_result"
    }
   ],
   "source": [
    "data"
   ]
  },
  {
   "cell_type": "code",
   "execution_count": 99,
   "metadata": {},
   "outputs": [
    {
     "data": {
      "text/plain": [
       "'INCEPTION (2010)'"
      ]
     },
     "execution_count": 99,
     "metadata": {},
     "output_type": "execute_result"
    }
   ],
   "source": [
    "data['movie'].iloc[0]"
   ]
  },
  {
   "cell_type": "code",
   "execution_count": null,
   "metadata": {},
   "outputs": [],
   "source": []
  },
  {
   "cell_type": "code",
   "execution_count": 110,
   "metadata": {},
   "outputs": [
    {
     "name": "stdout",
     "output_type": "stream",
     "text": [
      "            recommended_movies\n",
      "0             INCEPTION (2010)\n",
      "1                AVATAR (2009)\n",
      "2      DARK KNIGHT, THE (2008)\n",
      "3  INGLOURIOUS BASTERDS (2009)\n",
      "4            DISTRICT 9 (2009)\n",
      "5        SHUTTER ISLAND (2010)\n",
      "6              IRON MAN (2008)\n",
      "7                    UP (2009)\n",
      "8         HANGOVER, THE (2009)\n",
      "9             STAR TREK (2009)\n"
     ]
    }
   ],
   "source": [
    "rec_mov=[]\n",
    "try:\n",
    "    query_index = np.where(movie_features_df.index=='INCEPTION (2010)')[0][0]\n",
    "    distances, indices = clf.kneighbors(movie_features_df.iloc[query_index,:].values.reshape(1, -1), n_neighbors = 10)\n",
    "    for i in range(10):   \n",
    "        rec_mov.append(movie_features_df.index[indices.flatten()[i]])\n",
    "    d={'recommended_movies':rec_mov}\n",
    "    df=pd.DataFrame(d)\n",
    "    print(df)\n",
    "except:\n",
    "    print(\"Sorry please try something else\")"
   ]
  },
  {
   "cell_type": "code",
   "execution_count": null,
   "metadata": {},
   "outputs": [],
   "source": []
  },
  {
   "cell_type": "code",
   "execution_count": null,
   "metadata": {},
   "outputs": [],
   "source": []
  }
 ],
 "metadata": {
  "kernelspec": {
   "display_name": "Python 3",
   "language": "python",
   "name": "python3"
  },
  "language_info": {
   "codemirror_mode": {
    "name": "ipython",
    "version": 3
   },
   "file_extension": ".py",
   "mimetype": "text/x-python",
   "name": "python",
   "nbconvert_exporter": "python",
   "pygments_lexer": "ipython3",
   "version": "3.7.4"
  }
 },
 "nbformat": 4,
 "nbformat_minor": 2
}
